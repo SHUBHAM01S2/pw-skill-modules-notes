{
 "cells": [
  {
   "cell_type": "code",
   "execution_count": 5,
   "id": "4d6fb6a8-2e7c-4607-abc7-40b9ec9c6883",
   "metadata": {},
   "outputs": [],
   "source": [
    "#property decorators >> you are allowed to use class method as an attribute"
   ]
  },
  {
   "cell_type": "code",
   "execution_count": 6,
   "id": "3d2892c3-5753-4f02-bc23-dd85e5d4d12f",
   "metadata": {},
   "outputs": [],
   "source": [
    "class Student:\n",
    "    def __init__(self, name, price):\n",
    "        self.__name = name\n",
    "        self.__price = price"
   ]
  },
  {
   "cell_type": "code",
   "execution_count": 7,
   "id": "d91c1c63-2902-4eec-a26e-fca0eca919a4",
   "metadata": {},
   "outputs": [],
   "source": [
    "#here name and price are private variables which you will not be able to acces from outside the class\n",
    "stud = Student(\"Ajay\", 3000)"
   ]
  },
  {
   "cell_type": "code",
   "execution_count": 8,
   "id": "771dd221-d7bd-4dea-ad5b-2151c9e08fca",
   "metadata": {},
   "outputs": [
    {
     "ename": "AttributeError",
     "evalue": "'Student' object has no attribute 'name'",
     "output_type": "error",
     "traceback": [
      "\u001b[0;31m---------------------------------------------------------------------------\u001b[0m",
      "\u001b[0;31mAttributeError\u001b[0m                            Traceback (most recent call last)",
      "Cell \u001b[0;32mIn[8], line 1\u001b[0m\n\u001b[0;32m----> 1\u001b[0m stud\u001b[38;5;241m.\u001b[39mname\n",
      "\u001b[0;31mAttributeError\u001b[0m: 'Student' object has no attribute 'name'"
     ]
    }
   ],
   "source": [
    "stud.name #error as name and price private variables"
   ]
  },
  {
   "cell_type": "code",
   "execution_count": 9,
   "id": "4a0b56f4-aae5-420a-81e1-a5db6318d70f",
   "metadata": {},
   "outputs": [
    {
     "data": {
      "text/plain": [
       "'Ajay'"
      ]
     },
     "execution_count": 9,
     "metadata": {},
     "output_type": "execute_result"
    }
   ],
   "source": [
    "#still you can access private variable if you know structure of the class\n",
    "stud._Student__name #using class name and exact variable name"
   ]
  },
  {
   "cell_type": "code",
   "execution_count": 10,
   "id": "e74acd14-228b-4ace-b628-5af344c5836a",
   "metadata": {},
   "outputs": [],
   "source": [
    "#another way to expose private variables using property decorators\n",
    "\n",
    "class Student:\n",
    "    def __init__(self, name, price):\n",
    "        self.__name = name\n",
    "        self.__price = price\n",
    "    @property\n",
    "    def access_price(self):\n",
    "        return self.__price"
   ]
  },
  {
   "cell_type": "code",
   "execution_count": 11,
   "id": "9776b7d6-5668-42fa-83f4-7cead0397559",
   "metadata": {},
   "outputs": [],
   "source": [
    "stud = Student(\"Ajay\", 5000)"
   ]
  },
  {
   "cell_type": "code",
   "execution_count": 12,
   "id": "ec0cd6dd-2901-4ed2-a84f-531d7f69917f",
   "metadata": {},
   "outputs": [
    {
     "data": {
      "text/plain": [
       "5000"
      ]
     },
     "execution_count": 12,
     "metadata": {},
     "output_type": "execute_result"
    }
   ],
   "source": [
    "stud.access_price"
   ]
  },
  {
   "cell_type": "code",
   "execution_count": 13,
   "id": "b11353bb-b6ca-475f-9eb4-a056b9d339b4",
   "metadata": {},
   "outputs": [],
   "source": [
    "#you want to modify the price\n",
    "class Student:\n",
    "    def __init__(self, name, price):\n",
    "        self.__name = name\n",
    "        self.__price = price\n",
    "   \n",
    "    @property\n",
    "    def access_price(self):\n",
    "        return self.__price\n",
    "    \n",
    "    @access_price.setter\n",
    "    def price_set(self, price_new):\n",
    "        self.__price = price_new"
   ]
  },
  {
   "cell_type": "code",
   "execution_count": 14,
   "id": "3d5a36b4-933d-49c6-9226-d72fd597c721",
   "metadata": {},
   "outputs": [],
   "source": [
    "stud = Student(\"Ajay\", 5000)"
   ]
  },
  {
   "cell_type": "code",
   "execution_count": 15,
   "id": "33b8d325-21fb-4170-9e74-5b06a90b040a",
   "metadata": {},
   "outputs": [
    {
     "data": {
      "text/plain": [
       "5000"
      ]
     },
     "execution_count": 15,
     "metadata": {},
     "output_type": "execute_result"
    }
   ],
   "source": [
    "stud.access_price"
   ]
  },
  {
   "cell_type": "code",
   "execution_count": 16,
   "id": "b06206e4-7874-443f-8357-f3d3c34042ed",
   "metadata": {},
   "outputs": [],
   "source": [
    "stud.price_set = 1500"
   ]
  },
  {
   "cell_type": "code",
   "execution_count": 17,
   "id": "1219006e-0fb3-4959-830b-34a12a7b7bf3",
   "metadata": {},
   "outputs": [
    {
     "data": {
      "text/plain": [
       "1500"
      ]
     },
     "execution_count": 17,
     "metadata": {},
     "output_type": "execute_result"
    }
   ],
   "source": [
    "stud.access_price"
   ]
  },
  {
   "cell_type": "code",
   "execution_count": 18,
   "id": "24f00548-9476-4c60-ab1c-c48b205f11a8",
   "metadata": {},
   "outputs": [],
   "source": [
    "#delete a variable\n",
    "\n",
    "class Student:\n",
    "    def __init__(self, name, price):\n",
    "        self.__name = name\n",
    "        self.__price = price\n",
    "   \n",
    "    @property\n",
    "    def access_price(self):\n",
    "        return self.__price\n",
    "    \n",
    "    @access_price.setter\n",
    "    def access_price(self, price_new):\n",
    "        self.__price = price_new\n",
    "    \n",
    "    @access_price.deleter\n",
    "    def access_price(self):\n",
    "        del self.__price"
   ]
  },
  {
   "cell_type": "code",
   "execution_count": 19,
   "id": "f616f400-833b-4f73-b707-737adb440ec6",
   "metadata": {},
   "outputs": [],
   "source": [
    "stud = Student(\"Ajay\", 15000)"
   ]
  },
  {
   "cell_type": "code",
   "execution_count": 20,
   "id": "00458edd-e1ea-40ea-bc0b-a3a1e5d8bb43",
   "metadata": {},
   "outputs": [
    {
     "data": {
      "text/plain": [
       "15000"
      ]
     },
     "execution_count": 20,
     "metadata": {},
     "output_type": "execute_result"
    }
   ],
   "source": [
    "stud.access_price"
   ]
  },
  {
   "cell_type": "code",
   "execution_count": 21,
   "id": "849cb8ea-1a80-47c6-9894-a391d53548c7",
   "metadata": {},
   "outputs": [],
   "source": [
    "stud.price_set = 20000"
   ]
  },
  {
   "cell_type": "code",
   "execution_count": 22,
   "id": "989bf8aa-8c64-4a6c-9f1d-d11fd7602025",
   "metadata": {},
   "outputs": [
    {
     "data": {
      "text/plain": [
       "15000"
      ]
     },
     "execution_count": 22,
     "metadata": {},
     "output_type": "execute_result"
    }
   ],
   "source": [
    "stud.access_price"
   ]
  },
  {
   "cell_type": "code",
   "execution_count": 23,
   "id": "4040b3f6-0498-4087-b42c-57d472c0e896",
   "metadata": {},
   "outputs": [],
   "source": [
    "del stud.access_price"
   ]
  },
  {
   "cell_type": "code",
   "execution_count": 24,
   "id": "43989ea7-d703-4b61-9108-304c3015d0f4",
   "metadata": {},
   "outputs": [
    {
     "ename": "AttributeError",
     "evalue": "'Student' object has no attribute '_Student__price'",
     "output_type": "error",
     "traceback": [
      "\u001b[0;31m---------------------------------------------------------------------------\u001b[0m",
      "\u001b[0;31mAttributeError\u001b[0m                            Traceback (most recent call last)",
      "Cell \u001b[0;32mIn[24], line 1\u001b[0m\n\u001b[0;32m----> 1\u001b[0m stud\u001b[38;5;241m.\u001b[39maccess_price\n",
      "Cell \u001b[0;32mIn[18], line 10\u001b[0m, in \u001b[0;36mStudent.access_price\u001b[0;34m(self)\u001b[0m\n\u001b[1;32m      8\u001b[0m \u001b[38;5;129m@property\u001b[39m\n\u001b[1;32m      9\u001b[0m \u001b[38;5;28;01mdef\u001b[39;00m \u001b[38;5;21maccess_price\u001b[39m(\u001b[38;5;28mself\u001b[39m):\n\u001b[0;32m---> 10\u001b[0m     \u001b[38;5;28;01mreturn\u001b[39;00m \u001b[38;5;28mself\u001b[39m\u001b[38;5;241m.\u001b[39m__price\n",
      "\u001b[0;31mAttributeError\u001b[0m: 'Student' object has no attribute '_Student__price'"
     ]
    }
   ],
   "source": [
    "stud.access_price"
   ]
  },
  {
   "cell_type": "code",
   "execution_count": 25,
   "id": "2f2b83e0-530c-4843-bd90-0b0a5859fd5e",
   "metadata": {},
   "outputs": [],
   "source": [
    "#use case\n",
    "class Circle:\n",
    "    def __init__(self, radius):\n",
    "        self.__radius = radius\n",
    "        \n",
    "    @property\n",
    "    def radius(self):\n",
    "        return self.__radius"
   ]
  },
  {
   "cell_type": "code",
   "execution_count": 26,
   "id": "eb09b353-4c6d-4e39-b7c9-f1b9f173d9af",
   "metadata": {},
   "outputs": [],
   "source": [
    "c = Circle(5)"
   ]
  },
  {
   "cell_type": "code",
   "execution_count": 27,
   "id": "0f96b451-670e-49fa-899f-b95136520887",
   "metadata": {},
   "outputs": [
    {
     "data": {
      "text/plain": [
       "5"
      ]
     },
     "execution_count": 27,
     "metadata": {},
     "output_type": "execute_result"
    }
   ],
   "source": [
    "c.radius"
   ]
  },
  {
   "cell_type": "code",
   "execution_count": 28,
   "id": "9f96494a-7a19-4305-b9b1-2783ab4ffa6f",
   "metadata": {},
   "outputs": [],
   "source": [
    "class Circle:\n",
    "    def __init__(self, radius):\n",
    "        self.__radius = radius\n",
    "        \n",
    "    @property\n",
    "    def radius(self):\n",
    "        return self.__radius\n",
    "    @radius.setter\n",
    "    def radius(self, value):\n",
    "        if value <= 0:\n",
    "            raise ValueError(\"Radius is not positive\")\n",
    "        self.__radius = value\n",
    "    def area(self):\n",
    "        return 3.14*self.__radius*self.__radius"
   ]
  },
  {
   "cell_type": "code",
   "execution_count": 29,
   "id": "e7926936-78be-4911-9ebd-8bef69af9ece",
   "metadata": {},
   "outputs": [],
   "source": [
    "c = Circle(5)"
   ]
  },
  {
   "cell_type": "code",
   "execution_count": 30,
   "id": "e23d3135-0bb8-43ce-b9dc-667d0cc76937",
   "metadata": {},
   "outputs": [
    {
     "data": {
      "text/plain": [
       "5"
      ]
     },
     "execution_count": 30,
     "metadata": {},
     "output_type": "execute_result"
    }
   ],
   "source": [
    "c.radius"
   ]
  },
  {
   "cell_type": "code",
   "execution_count": 31,
   "id": "6b8936ed-5420-4d5b-9395-1f32866b24c9",
   "metadata": {},
   "outputs": [],
   "source": [
    "c.radius=10"
   ]
  },
  {
   "cell_type": "code",
   "execution_count": 32,
   "id": "439bebde-e490-4985-ba9a-b47c495839fe",
   "metadata": {},
   "outputs": [
    {
     "data": {
      "text/plain": [
       "10"
      ]
     },
     "execution_count": 32,
     "metadata": {},
     "output_type": "execute_result"
    }
   ],
   "source": [
    "c.radius"
   ]
  },
  {
   "cell_type": "code",
   "execution_count": 33,
   "id": "7b0011b4-d4d6-471f-8a17-8b4a8da7556c",
   "metadata": {},
   "outputs": [
    {
     "data": {
      "text/plain": [
       "314.0"
      ]
     },
     "execution_count": 33,
     "metadata": {},
     "output_type": "execute_result"
    }
   ],
   "source": [
    "c.area()"
   ]
  },
  {
   "cell_type": "code",
   "execution_count": 34,
   "id": "21c69091-d620-4cce-b502-b3fe0ad38576",
   "metadata": {},
   "outputs": [],
   "source": [
    "class Circle:\n",
    "    def __init__(self, radius):\n",
    "        self.__radius = radius\n",
    "        \n",
    "    @property\n",
    "    def radius(self):\n",
    "        return self.__radius\n",
    "    @radius.setter\n",
    "    def radius(self, value):\n",
    "        if value <= 0:\n",
    "            raise ValueError(\"Radius is not positive\")\n",
    "        self.__radius = value\n",
    "    @radius.deleter\n",
    "    def radius(self):\n",
    "        del self.__radius\n",
    "    def area(self):\n",
    "        return 3.14*self.__radius*self.__radius"
   ]
  },
  {
   "cell_type": "code",
   "execution_count": 35,
   "id": "6ed35015-6f49-4677-a46d-ac8f1c192f87",
   "metadata": {},
   "outputs": [
    {
     "data": {
      "text/plain": [
       "78.5"
      ]
     },
     "execution_count": 35,
     "metadata": {},
     "output_type": "execute_result"
    }
   ],
   "source": [
    "c = Circle(5)\n",
    "c.area()"
   ]
  },
  {
   "cell_type": "code",
   "execution_count": 36,
   "id": "4d9195d3-f201-4056-b7d4-a45691321efb",
   "metadata": {},
   "outputs": [
    {
     "data": {
      "text/plain": [
       "5"
      ]
     },
     "execution_count": 36,
     "metadata": {},
     "output_type": "execute_result"
    }
   ],
   "source": [
    "c.radius"
   ]
  },
  {
   "cell_type": "code",
   "execution_count": 1,
   "id": "0cd4015a-a6a9-4df0-8c50-dcddb552703a",
   "metadata": {},
   "outputs": [
    {
     "name": "stdout",
     "output_type": "stream",
     "text": [
      "8\n"
     ]
    }
   ],
   "source": [
    "class MyClass:\n",
    "    def __init__(self,val):\n",
    "        self.val = val\n",
    "    def increment(self):\n",
    "        self.val += 1\n",
    "        return self\n",
    "obj = MyClass(5)\n",
    "obj.increment().increment().increment()\n",
    "print(obj.val)"
   ]
  },
  {
   "cell_type": "code",
   "execution_count": null,
   "id": "b5e2f6de",
   "metadata": {},
   "outputs": [],
   "source": []
  }
 ],
 "metadata": {
  "kernelspec": {
   "display_name": "base",
   "language": "python",
   "name": "python3"
  },
  "language_info": {
   "codemirror_mode": {
    "name": "ipython",
    "version": 3
   },
   "file_extension": ".py",
   "mimetype": "text/x-python",
   "name": "python",
   "nbconvert_exporter": "python",
   "pygments_lexer": "ipython3",
   "version": "3.12.7"
  }
 },
 "nbformat": 4,
 "nbformat_minor": 5
}
