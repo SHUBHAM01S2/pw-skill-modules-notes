{
 "cells": [
  {
   "cell_type": "code",
   "execution_count": 1,
   "id": "96f7aee6-c617-487b-95d2-31dadfcb5663",
   "metadata": {},
   "outputs": [],
   "source": [
    "#polymorphism >> poly means many and morphism means forms/states\n",
    "#refers to an object taking several forms depending on the methods/data"
   ]
  },
  {
   "cell_type": "code",
   "execution_count": 2,
   "id": "62271df9-a875-40cb-9409-b1891bae44b0",
   "metadata": {},
   "outputs": [
    {
     "data": {
      "text/plain": [
       "4"
      ]
     },
     "execution_count": 2,
     "metadata": {},
     "output_type": "execute_result"
    }
   ],
   "source": [
    "len(\"Ajay\")"
   ]
  },
  {
   "cell_type": "code",
   "execution_count": 3,
   "id": "2c1589c8-f113-42ea-9fdd-c7f53420a680",
   "metadata": {},
   "outputs": [
    {
     "data": {
      "text/plain": [
       "5"
      ]
     },
     "execution_count": 3,
     "metadata": {},
     "output_type": "execute_result"
    }
   ],
   "source": [
    "len([1, 2, 3, 4, 5])"
   ]
  },
  {
   "cell_type": "code",
   "execution_count": 4,
   "id": "8778f06c-c5c6-4c85-aa1c-683fad1cef44",
   "metadata": {},
   "outputs": [
    {
     "data": {
      "text/plain": [
       "2"
      ]
     },
     "execution_count": 4,
     "metadata": {},
     "output_type": "execute_result"
    }
   ],
   "source": [
    "len((1, 2))"
   ]
  },
  {
   "cell_type": "code",
   "execution_count": 5,
   "id": "4c54021e-c26e-4d7a-916c-1ef4a529c7a1",
   "metadata": {},
   "outputs": [],
   "source": [
    "def func(a, b):\n",
    "    return a+b"
   ]
  },
  {
   "cell_type": "code",
   "execution_count": 6,
   "id": "d04942d2-043b-4c2c-85a4-6eafc51bd6c1",
   "metadata": {},
   "outputs": [
    {
     "data": {
      "text/plain": [
       "5"
      ]
     },
     "execution_count": 6,
     "metadata": {},
     "output_type": "execute_result"
    }
   ],
   "source": [
    "func(2, 3) #same + adding two numbers"
   ]
  },
  {
   "cell_type": "code",
   "execution_count": 7,
   "id": "6582a777-05af-457b-812b-e146641eb129",
   "metadata": {},
   "outputs": [
    {
     "data": {
      "text/plain": [
       "'pwskills'"
      ]
     },
     "execution_count": 7,
     "metadata": {},
     "output_type": "execute_result"
    }
   ],
   "source": [
    "func(\"pw\", \"skills\") #same +, combining two strings"
   ]
  },
  {
   "cell_type": "code",
   "execution_count": 9,
   "id": "fa08f7b3-d703-485d-97c0-8009e9893b3d",
   "metadata": {},
   "outputs": [
    {
     "data": {
      "text/plain": [
       "[1, 2, 3, 4, 5, 6]"
      ]
     },
     "execution_count": 9,
     "metadata": {},
     "output_type": "execute_result"
    }
   ],
   "source": [
    "func([1, 2, 3], [4, 5, 6]) #the list concatenation"
   ]
  },
  {
   "cell_type": "code",
   "execution_count": 10,
   "id": "934237cd-a060-411c-843b-553c0134e39a",
   "metadata": {},
   "outputs": [],
   "source": [
    "#observation>> func is taking different forms with respect to different data passed"
   ]
  },
  {
   "cell_type": "code",
   "execution_count": 12,
   "id": "f90d028d",
   "metadata": {},
   "outputs": [],
   "source": [
    "class teacher_lecture:\n",
    "    def lec_info(self):\n",
    "        print(\"This is lec info with teacher perspective\")\n",
    "class student_lecture:\n",
    "    def lec_info(self):\n",
    "        print(\"This is lec info with student perspective\")"
   ]
  },
  {
   "cell_type": "code",
   "execution_count": 15,
   "id": "b0810209",
   "metadata": {},
   "outputs": [],
   "source": [
    "obj1 = teacher_lecture()\n",
    "obj2 = student_lecture()\n",
    "class_obj = [obj1,obj2]"
   ]
  },
  {
   "cell_type": "code",
   "execution_count": 16,
   "id": "ea88ecca-04b3-4426-b51c-27e074c95d0b",
   "metadata": {},
   "outputs": [],
   "source": [
    "def parcer(class_obj):\n",
    "    for i in class_obj:\n",
    "        i.lec_info() #at this point, lec_info is taking two forms wrt techer and students"
   ]
  },
  {
   "cell_type": "code",
   "execution_count": 17,
   "id": "8a762dfd-3d6b-41d3-8c88-d61838b8c2a3",
   "metadata": {},
   "outputs": [
    {
     "name": "stdout",
     "output_type": "stream",
     "text": [
      "This is lec info with teacher perspective\n",
      "This is lec info with student perspective\n"
     ]
    }
   ],
   "source": [
    "parcer(class_obj)"
   ]
  },
  {
   "cell_type": "code",
   "execution_count": 18,
   "id": "b07db33b-42e5-4955-876a-57e0df194183",
   "metadata": {},
   "outputs": [],
   "source": [
    "#Polymorphism in OOPS takes places in two ways:\n",
    "#Method overloading >> python doesnt support true method overloading\n",
    "#Method overriding"
   ]
  },
  {
   "cell_type": "code",
   "execution_count": 19,
   "id": "3ab4720f-ee66-4abd-ab48-ccfd33d8a050",
   "metadata": {},
   "outputs": [],
   "source": [
    "#method overloading"
   ]
  },
  {
   "cell_type": "code",
   "execution_count": 21,
   "id": "2e2254aa",
   "metadata": {},
   "outputs": [],
   "source": [
    "class Student:\n",
    "    def student(self):\n",
    "        print(\"Welcome to the pwskills class\")\n",
    "    def student(self,name=\"\"):\n",
    "        print(\"Welcome to the pwskills class\",name)\n",
    "    def student(self,name=\"\",course=\"\"):\n",
    "        print(\"Welcome to the pwskills class\",name,course)"
   ]
  },
  {
   "cell_type": "code",
   "execution_count": 22,
   "id": "6c83bcd6-11c9-4d30-8e14-ddffeaf192ed",
   "metadata": {},
   "outputs": [],
   "source": [
    "stud = Student()"
   ]
  },
  {
   "cell_type": "code",
   "execution_count": 23,
   "id": "9734ba88-702f-4460-868d-31541ba923e4",
   "metadata": {},
   "outputs": [
    {
     "name": "stdout",
     "output_type": "stream",
     "text": [
      "Welcome to the pwskills class  \n"
     ]
    }
   ],
   "source": [
    "stud.student()"
   ]
  },
  {
   "cell_type": "code",
   "execution_count": 24,
   "id": "086b03a5-7311-4d99-9128-9fe087cde5f9",
   "metadata": {},
   "outputs": [
    {
     "name": "stdout",
     "output_type": "stream",
     "text": [
      "Welcome to the pwskills class Ajay \n"
     ]
    }
   ],
   "source": [
    "stud.student(\"Ajay\")"
   ]
  },
  {
   "cell_type": "code",
   "execution_count": 25,
   "id": "10b17029-2c8f-4eff-9d7b-3df965ac9d07",
   "metadata": {},
   "outputs": [
    {
     "name": "stdout",
     "output_type": "stream",
     "text": [
      "Welcome to the pwskills class Ajay DS\n"
     ]
    }
   ],
   "source": [
    "stud.student(\"Ajay\", \"DS\")"
   ]
  },
  {
   "cell_type": "code",
   "execution_count": 26,
   "id": "0a8f9622-b339-4117-9cfc-f371b972b795",
   "metadata": {},
   "outputs": [],
   "source": [
    "#method overloading >> student method is taking different forms, the last methods overloads the previous ones in the same class\n",
    "class Student:\n",
    "    def student(self, name = \"\", course = \"\"):\n",
    "        print(\"Wecome to pwskills class\", name, course)"
   ]
  },
  {
   "cell_type": "code",
   "execution_count": 27,
   "id": "bbdddd41-e33a-4034-8f3a-36ac2e2ed0cf",
   "metadata": {},
   "outputs": [
    {
     "name": "stdout",
     "output_type": "stream",
     "text": [
      "Wecome to pwskills class  \n"
     ]
    }
   ],
   "source": [
    "stud = Student()\n",
    "stud.student()"
   ]
  },
  {
   "cell_type": "code",
   "execution_count": 28,
   "id": "c9b5df5b-6d0b-45c6-b93d-17970d1d37ab",
   "metadata": {},
   "outputs": [
    {
     "name": "stdout",
     "output_type": "stream",
     "text": [
      "Wecome to pwskills class Ajay \n"
     ]
    }
   ],
   "source": [
    "stud.student(\"Ajay\")"
   ]
  },
  {
   "cell_type": "code",
   "execution_count": 29,
   "id": "70dc6d12-c61a-4b9d-ab93-fae1ef544207",
   "metadata": {},
   "outputs": [
    {
     "name": "stdout",
     "output_type": "stream",
     "text": [
      "Wecome to pwskills class Ajay DS\n"
     ]
    }
   ],
   "source": [
    "stud.student(\"Ajay\", \"DS\")"
   ]
  },
  {
   "cell_type": "code",
   "execution_count": 30,
   "id": "a9662715-9dbd-46da-af87-ce88f9faca14",
   "metadata": {},
   "outputs": [],
   "source": [
    "#method overloading happens in the same class"
   ]
  },
  {
   "cell_type": "code",
   "execution_count": 31,
   "id": "68766aed-5ce2-4f64-96ea-118c9a536dce",
   "metadata": {},
   "outputs": [],
   "source": [
    "#method overriding >> method in parent class and child class with same signature, the child class method will be executed"
   ]
  },
  {
   "cell_type": "code",
   "execution_count": 32,
   "id": "c60b4626-669c-4852-8559-6fa276316a58",
   "metadata": {},
   "outputs": [],
   "source": [
    "class Animal:\n",
    "    def sound(self):\n",
    "        print(\"Animal Sound\")\n",
    "class Cat(Animal):\n",
    "    def sound(self):\n",
    "        print(\"cat meows\")"
   ]
  },
  {
   "cell_type": "code",
   "execution_count": 33,
   "id": "41c5468a-c28a-4e1e-ac4e-eb76a2d3d6bd",
   "metadata": {},
   "outputs": [],
   "source": [
    "anm = Animal()"
   ]
  },
  {
   "cell_type": "code",
   "execution_count": 34,
   "id": "523ab5be-e19c-4158-bc17-684724e28f68",
   "metadata": {},
   "outputs": [
    {
     "name": "stdout",
     "output_type": "stream",
     "text": [
      "Animal Sound\n"
     ]
    }
   ],
   "source": [
    "anm.sound() #Animal class"
   ]
  },
  {
   "cell_type": "code",
   "execution_count": 35,
   "id": "59888453-7834-4d81-b5a2-a422b03449d4",
   "metadata": {},
   "outputs": [
    {
     "name": "stdout",
     "output_type": "stream",
     "text": [
      "cat meows\n"
     ]
    }
   ],
   "source": [
    "cat = Cat()\n",
    "cat.sound() #cat class"
   ]
  },
  {
   "cell_type": "code",
   "execution_count": 36,
   "id": "dc61e872-281b-41fd-8346-3c37f32b1858",
   "metadata": {},
   "outputs": [],
   "source": [
    "#Encapsulation>> means hiding something\n",
    "#bundling of data and methods of a class\n",
    "#access modifier>>public, protected, private"
   ]
  },
  {
   "cell_type": "code",
   "execution_count": null,
   "id": "4a9a58d6-1af7-451e-9327-d473c9012a54",
   "metadata": {},
   "outputs": [],
   "source": [
    "#public>>accessible from anywhere from outside/inside of class"
   ]
  },
  {
   "cell_type": "code",
   "execution_count": 37,
   "id": "f4b399b6",
   "metadata": {},
   "outputs": [],
   "source": [
    "class Student:\n",
    "    def __init__(self,name,degree):\n",
    "        self.name = name\n",
    "        self.degree = degree"
   ]
  },
  {
   "cell_type": "code",
   "execution_count": 42,
   "id": "64aaf1dd",
   "metadata": {},
   "outputs": [
    {
     "name": "stdout",
     "output_type": "stream",
     "text": [
      "Shubham Sharma\n",
      "BCA\n"
     ]
    }
   ],
   "source": [
    "stud = Student(\"Shubham Sharma\",\"BCA\")\n",
    "print(stud.name)\n",
    "print(stud.degree)"
   ]
  },
  {
   "cell_type": "code",
   "execution_count": 43,
   "id": "e1e6642b-a512-4e96-9beb-5637c8eb09f8",
   "metadata": {},
   "outputs": [
    {
     "data": {
      "text/plain": [
       "'Bach'"
      ]
     },
     "execution_count": 43,
     "metadata": {},
     "output_type": "execute_result"
    }
   ],
   "source": [
    "stud2 = Student(\"Sam\", \"Bach\")\n",
    "stud2.degree"
   ]
  },
  {
   "cell_type": "code",
   "execution_count": 44,
   "id": "9fa74349-7641-4eb0-9d8e-25e341fedf2b",
   "metadata": {},
   "outputs": [],
   "source": [
    "stud2.degree = \"Phd\""
   ]
  },
  {
   "cell_type": "code",
   "execution_count": 46,
   "id": "7ee8957b-7197-454d-8d30-11c4ae203a49",
   "metadata": {},
   "outputs": [
    {
     "data": {
      "text/plain": [
       "'Phd'"
      ]
     },
     "execution_count": 46,
     "metadata": {},
     "output_type": "execute_result"
    }
   ],
   "source": [
    "stud2.degree ## the data is available in public that's why it changed to phd"
   ]
  },
  {
   "cell_type": "code",
   "execution_count": null,
   "id": "e64e72ad",
   "metadata": {},
   "outputs": [],
   "source": [
    "#accessing the public data member inside the other method of same class\n",
    "class Student:\n",
    "    def __init__(self,name,degree):\n",
    "        self.name = name\n",
    "        self.degree = degree\n",
    "    def show(self):\n",
    "        # accessing the  public data member\n",
    "        print(f\"Name of student is {self.name} & Degree of student is: {self.degree}\")\n",
    "ss = Student(\"Shubham Sharma\",\"BCA\")\n"
   ]
  },
  {
   "cell_type": "code",
   "execution_count": 50,
   "id": "1a81e74f",
   "metadata": {},
   "outputs": [
    {
     "name": "stdout",
     "output_type": "stream",
     "text": [
      "Name of student is Shubham Sharma & Degree of student is: BCA\n"
     ]
    }
   ],
   "source": [
    "ss.show()"
   ]
  },
  {
   "cell_type": "code",
   "execution_count": 51,
   "id": "f31e1d82",
   "metadata": {},
   "outputs": [
    {
     "data": {
      "text/plain": [
       "'Shubham Sharma'"
      ]
     },
     "execution_count": 51,
     "metadata": {},
     "output_type": "execute_result"
    }
   ],
   "source": [
    "ss.name"
   ]
  },
  {
   "cell_type": "code",
   "execution_count": 52,
   "id": "41097e15",
   "metadata": {},
   "outputs": [
    {
     "data": {
      "text/plain": [
       "'BCA'"
      ]
     },
     "execution_count": 52,
     "metadata": {},
     "output_type": "execute_result"
    }
   ],
   "source": [
    "ss.degree"
   ]
  },
  {
   "cell_type": "code",
   "execution_count": null,
   "id": "07194732-2c6e-40e0-9bf4-f6e461a856bb",
   "metadata": {},
   "outputs": [],
   "source": [
    "#private >> the data and method is only accessible within its class, use __ to make private"
   ]
  },
  {
   "cell_type": "code",
   "execution_count": 53,
   "id": "bcbe6e50",
   "metadata": {},
   "outputs": [],
   "source": [
    "class Student:\n",
    "    def __init__(self,name,degree):\n",
    "        self.name = name\n",
    "        self.__degree = degree # private variable\n",
    "    \n",
    "    def show(self):\n",
    "        #accessing the private data member\n",
    "        print(f\"Name of the student is {self.name} & degree is {self.__degree}\")"
   ]
  },
  {
   "cell_type": "code",
   "execution_count": 54,
   "id": "263eae77",
   "metadata": {},
   "outputs": [],
   "source": [
    "s = Student(\"Shubham\",\"BCA\")"
   ]
  },
  {
   "cell_type": "code",
   "execution_count": 57,
   "id": "a1f45841",
   "metadata": {},
   "outputs": [
    {
     "data": {
      "text/plain": [
       "'Shubham'"
      ]
     },
     "execution_count": 57,
     "metadata": {},
     "output_type": "execute_result"
    }
   ],
   "source": [
    "s.name"
   ]
  },
  {
   "cell_type": "code",
   "execution_count": 58,
   "id": "684598a0",
   "metadata": {},
   "outputs": [
    {
     "name": "stdout",
     "output_type": "stream",
     "text": [
      "Name of the student is Shubham & degree is BCA\n"
     ]
    }
   ],
   "source": [
    "s.show()"
   ]
  },
  {
   "cell_type": "code",
   "execution_count": 59,
   "id": "d72d6c47-f8b3-4e49-bd89-0f8d36b3bc97",
   "metadata": {},
   "outputs": [
    {
     "ename": "AttributeError",
     "evalue": "'Student' object has no attribute 'degree'",
     "output_type": "error",
     "traceback": [
      "\u001b[0;31m---------------------------------------------------------------------------\u001b[0m",
      "\u001b[0;31mAttributeError\u001b[0m                            Traceback (most recent call last)",
      "Cell \u001b[0;32mIn[59], line 1\u001b[0m\n\u001b[0;32m----> 1\u001b[0m s\u001b[38;5;241m.\u001b[39mdegree\n",
      "\u001b[0;31mAttributeError\u001b[0m: 'Student' object has no attribute 'degree'"
     ]
    }
   ],
   "source": [
    "s.degree #it will throw an error as degree is now private data"
   ]
  },
  {
   "cell_type": "code",
   "execution_count": 60,
   "id": "067205fe-ddb9-4e30-82f5-b96c7c07388b",
   "metadata": {},
   "outputs": [
    {
     "ename": "AttributeError",
     "evalue": "'Student' object has no attribute '__degree'",
     "output_type": "error",
     "traceback": [
      "\u001b[0;31m---------------------------------------------------------------------------\u001b[0m",
      "\u001b[0;31mAttributeError\u001b[0m                            Traceback (most recent call last)",
      "Cell \u001b[0;32mIn[60], line 1\u001b[0m\n\u001b[0;32m----> 1\u001b[0m s\u001b[38;5;241m.\u001b[39m__degree\n",
      "\u001b[0;31mAttributeError\u001b[0m: 'Student' object has no attribute '__degree'"
     ]
    }
   ],
   "source": [
    "s.__degree #it will throw an error as degree is now private data"
   ]
  },
  {
   "cell_type": "code",
   "execution_count": 61,
   "id": "a88c97c3-f65a-4646-bd9e-1808b70002c6",
   "metadata": {},
   "outputs": [
    {
     "data": {
      "text/plain": [
       "'BCA'"
      ]
     },
     "execution_count": 61,
     "metadata": {},
     "output_type": "execute_result"
    }
   ],
   "source": [
    "s._Student__degree #say you want to access the private variable using class name"
   ]
  },
  {
   "cell_type": "code",
   "execution_count": 62,
   "id": "f1b15f6e-50cf-4b35-9750-e36a4bc97f24",
   "metadata": {},
   "outputs": [],
   "source": [
    "#a method private\n",
    "\n",
    "class Student:\n",
    "    def __init__(self, name, degree):\n",
    "        self.name = name\n",
    "        self.__degree = degree #private data\n",
    "        \n",
    "    def show(self):\n",
    "        #accessing the private data member\n",
    "        print(\"name\", self.name, 'degree', self.__degree)\n",
    "        \n",
    "    def __private_method(self):\n",
    "        print(\"This is a private method\")"
   ]
  },
  {
   "cell_type": "code",
   "execution_count": 63,
   "id": "21673811-3505-49f7-8d50-85b436c35608",
   "metadata": {},
   "outputs": [],
   "source": [
    "obj1 = Student(\"Ajay\", \"Masters\")"
   ]
  },
  {
   "cell_type": "code",
   "execution_count": 64,
   "id": "fc535ec4-575d-442d-ae8e-227328e2daad",
   "metadata": {},
   "outputs": [
    {
     "ename": "AttributeError",
     "evalue": "'Student' object has no attribute 'private_method'",
     "output_type": "error",
     "traceback": [
      "\u001b[0;31m---------------------------------------------------------------------------\u001b[0m",
      "\u001b[0;31mAttributeError\u001b[0m                            Traceback (most recent call last)",
      "Cell \u001b[0;32mIn[64], line 1\u001b[0m\n\u001b[0;32m----> 1\u001b[0m obj1\u001b[38;5;241m.\u001b[39mprivate_method()\n",
      "\u001b[0;31mAttributeError\u001b[0m: 'Student' object has no attribute 'private_method'"
     ]
    }
   ],
   "source": [
    "obj1.private_method() #throw an error"
   ]
  },
  {
   "cell_type": "code",
   "execution_count": 65,
   "id": "cf81a5e4-2674-41aa-90d6-1531060febe6",
   "metadata": {},
   "outputs": [
    {
     "ename": "AttributeError",
     "evalue": "'Student' object has no attribute '__private_method'",
     "output_type": "error",
     "traceback": [
      "\u001b[0;31m---------------------------------------------------------------------------\u001b[0m",
      "\u001b[0;31mAttributeError\u001b[0m                            Traceback (most recent call last)",
      "Cell \u001b[0;32mIn[65], line 1\u001b[0m\n\u001b[0;32m----> 1\u001b[0m obj1\u001b[38;5;241m.\u001b[39m__private_method()\n",
      "\u001b[0;31mAttributeError\u001b[0m: 'Student' object has no attribute '__private_method'"
     ]
    }
   ],
   "source": [
    "obj1.__private_method() #throw an error"
   ]
  },
  {
   "cell_type": "code",
   "execution_count": 66,
   "id": "cb4bcd5a-d478-4ed3-b8ae-cd070d745b4e",
   "metadata": {},
   "outputs": [
    {
     "name": "stdout",
     "output_type": "stream",
     "text": [
      "This is a private method\n"
     ]
    }
   ],
   "source": [
    "obj1._Student__private_method() #accesing private method using class name"
   ]
  },
  {
   "cell_type": "code",
   "execution_count": 67,
   "id": "07ba72cb-d002-4d2d-a6cb-f5b9b5d6d753",
   "metadata": {},
   "outputs": [],
   "source": [
    "#way to provide an option to see the private method>> a wrapper\n",
    "\n",
    "class Student:\n",
    "    def __init__(self, name, degree):\n",
    "        self.name = name\n",
    "        self.__degree = degree #private data\n",
    "        \n",
    "    def show(self):\n",
    "        #accessing the private data member\n",
    "        print(\"name\", self.name, 'degree', self.__degree)\n",
    "        \n",
    "    def __private_method(self):\n",
    "        print(\"This is a private method\")\n",
    "        \n",
    "    def access_private_method(self):\n",
    "        self.__private_method()"
   ]
  },
  {
   "cell_type": "code",
   "execution_count": 68,
   "id": "5e8a3675-9f85-4f1f-81a0-e52ca176f837",
   "metadata": {},
   "outputs": [
    {
     "name": "stdout",
     "output_type": "stream",
     "text": [
      "This is a private method\n"
     ]
    }
   ],
   "source": [
    "obj1 = Student(\"AJ\", \"Masters\")\n",
    "obj1.access_private_method()"
   ]
  },
  {
   "cell_type": "code",
   "execution_count": 69,
   "id": "4bea4a32-ef57-48dd-898c-aecd1e71eb17",
   "metadata": {},
   "outputs": [],
   "source": [
    "#another use case of modifying the private variable and accessing it\n",
    "class Car:\n",
    "    def __init__(self, year, make, speed, model):\n",
    "        self.__year = year\n",
    "        self.__make = make\n",
    "        self.__speed = speed\n",
    "        self.__model = model"
   ]
  },
  {
   "cell_type": "code",
   "execution_count": 70,
   "id": "e0871c6a-aed4-4059-aff7-91586efd61f8",
   "metadata": {},
   "outputs": [
    {
     "ename": "AttributeError",
     "evalue": "'Car' object has no attribute 'year'",
     "output_type": "error",
     "traceback": [
      "\u001b[0;31m---------------------------------------------------------------------------\u001b[0m",
      "\u001b[0;31mAttributeError\u001b[0m                            Traceback (most recent call last)",
      "Cell \u001b[0;32mIn[70], line 2\u001b[0m\n\u001b[1;32m      1\u001b[0m c1 \u001b[38;5;241m=\u001b[39m Car(\u001b[38;5;124m\"\u001b[39m\u001b[38;5;124m1995\u001b[39m\u001b[38;5;124m\"\u001b[39m, \u001b[38;5;124m\"\u001b[39m\u001b[38;5;124mMaruti\u001b[39m\u001b[38;5;124m\"\u001b[39m, \u001b[38;5;124m\"\u001b[39m\u001b[38;5;124m80\u001b[39m\u001b[38;5;124m\"\u001b[39m, \u001b[38;5;124m\"\u001b[39m\u001b[38;5;124mBrezza\u001b[39m\u001b[38;5;124m\"\u001b[39m)\n\u001b[0;32m----> 2\u001b[0m c1\u001b[38;5;241m.\u001b[39myear\n",
      "\u001b[0;31mAttributeError\u001b[0m: 'Car' object has no attribute 'year'"
     ]
    }
   ],
   "source": [
    "c1 = Car(\"1995\", \"Maruti\", \"80\", \"Brezza\")\n",
    "c1.year #since all variables are private, it will throw an error"
   ]
  },
  {
   "cell_type": "code",
   "execution_count": 71,
   "id": "d685bb45-143b-4f77-9f22-3d2e80639adb",
   "metadata": {},
   "outputs": [],
   "source": [
    "class Car:\n",
    "    def __init__(self, year, make, speed, model):\n",
    "        self.__year = year\n",
    "        self.__make = make\n",
    "        self.__speed = speed\n",
    "        self.__model = model\n",
    "    def set_speed(self, speed):\n",
    "        self.__speed = 0 if speed < 0 else speed\n",
    "    def get_speed(self):\n",
    "        return self.__speed"
   ]
  },
  {
   "cell_type": "code",
   "execution_count": 72,
   "id": "aaa0f6d0-50ac-42f0-ac0a-4c809f79dbde",
   "metadata": {},
   "outputs": [
    {
     "data": {
      "text/plain": [
       "'80'"
      ]
     },
     "execution_count": 72,
     "metadata": {},
     "output_type": "execute_result"
    }
   ],
   "source": [
    "c1 = Car(\"1995\", \"Maruti\", \"80\", \"Brezza\")\n",
    "c1.get_speed()"
   ]
  },
  {
   "cell_type": "code",
   "execution_count": 73,
   "id": "ce90a80c-c69c-4b0e-832e-a8ad2c68dd69",
   "metadata": {},
   "outputs": [],
   "source": [
    "c1.set_speed(-1000)"
   ]
  },
  {
   "cell_type": "code",
   "execution_count": 74,
   "id": "0e6610be-4e24-4612-bd4e-20a7006e9b3f",
   "metadata": {},
   "outputs": [
    {
     "data": {
      "text/plain": [
       "0"
      ]
     },
     "execution_count": 74,
     "metadata": {},
     "output_type": "execute_result"
    }
   ],
   "source": [
    "c1.get_speed()"
   ]
  },
  {
   "cell_type": "code",
   "execution_count": 75,
   "id": "33a7ae64-028c-41d0-8136-466794e406d7",
   "metadata": {},
   "outputs": [],
   "source": [
    "c1.set_speed(100)"
   ]
  },
  {
   "cell_type": "code",
   "execution_count": 76,
   "id": "d9ac3203-cbe7-44a5-b1ec-aeb97efa9b33",
   "metadata": {},
   "outputs": [
    {
     "data": {
      "text/plain": [
       "100"
      ]
     },
     "execution_count": 76,
     "metadata": {},
     "output_type": "execute_result"
    }
   ],
   "source": [
    "c1.get_speed()"
   ]
  },
  {
   "cell_type": "code",
   "execution_count": 77,
   "id": "f77859aa-157e-4336-839a-221ede5a2333",
   "metadata": {},
   "outputs": [],
   "source": [
    "#anaother use case\n"
   ]
  },
  {
   "cell_type": "code",
   "execution_count": 96,
   "id": "44ee9946",
   "metadata": {},
   "outputs": [],
   "source": [
    "class Bank:\n",
    "    def __init__(self,balance):\n",
    "        self.__balance = balance\n",
    "    def deposit(self,amount):\n",
    "        self.__balance += amount\n",
    "        print(f\"Total Balance is: {self.__balance}\")\n",
    "    def withdraw(self,amount):\n",
    "        if amount > self.__balance:\n",
    "            print(\"Insufficient Funds\")\n",
    "        else:\n",
    "            self.__balance -= amount\n",
    "    def get_balance(self):\n",
    "        return self.__balance"
   ]
  },
  {
   "cell_type": "code",
   "execution_count": 97,
   "id": "7e0d3257",
   "metadata": {},
   "outputs": [
    {
     "name": "stdout",
     "output_type": "stream",
     "text": [
      "Total Balance is: 101000\n"
     ]
    }
   ],
   "source": [
    "bank1 = Bank(1000)\n",
    "bank1.deposit(100000)"
   ]
  },
  {
   "cell_type": "code",
   "execution_count": 98,
   "id": "38219af1",
   "metadata": {},
   "outputs": [
    {
     "data": {
      "text/plain": [
       "101000"
      ]
     },
     "execution_count": 98,
     "metadata": {},
     "output_type": "execute_result"
    }
   ],
   "source": [
    "bank1.get_balance()"
   ]
  },
  {
   "cell_type": "code",
   "execution_count": 99,
   "id": "b9ea7472",
   "metadata": {},
   "outputs": [
    {
     "name": "stdout",
     "output_type": "stream",
     "text": [
      "Insufficient Funds\n"
     ]
    }
   ],
   "source": [
    "bank1.withdraw(200000)"
   ]
  },
  {
   "cell_type": "code",
   "execution_count": 100,
   "id": "14f4b67c",
   "metadata": {},
   "outputs": [
    {
     "data": {
      "text/plain": [
       "101000"
      ]
     },
     "execution_count": 100,
     "metadata": {},
     "output_type": "execute_result"
    }
   ],
   "source": [
    "bank1.get_balance()"
   ]
  },
  {
   "cell_type": "code",
   "execution_count": 101,
   "id": "3c576653-4513-43ca-b493-6ba0dc438fb5",
   "metadata": {},
   "outputs": [],
   "source": [
    "#protected>> within the class and its subclass, protected member can be access, (_)"
   ]
  },
  {
   "cell_type": "code",
   "execution_count": 102,
   "id": "632402cc-4c99-4da5-9254-73a7b1c91e68",
   "metadata": {},
   "outputs": [],
   "source": [
    "class College:\n",
    "    def __init__(self):\n",
    "        self._college_name = \"PWSkills\"\n",
    "class Student(College):\n",
    "    def __init__(self, name):\n",
    "        self.name = name\n",
    "        College.__init__(self) #accesing variable of base class>>classname__init__(self)\n",
    "        \n",
    "    def show(self):\n",
    "        print(\"name\", self.name, \"college\", self._college_name) #directly call the base class variable using \"_\""
   ]
  },
  {
   "cell_type": "code",
   "execution_count": 103,
   "id": "1cdc18d4-98bc-45ae-94ca-cfc627eb7d4e",
   "metadata": {},
   "outputs": [],
   "source": [
    "stud = Student(\"Ajay\")"
   ]
  },
  {
   "cell_type": "code",
   "execution_count": 104,
   "id": "87385616-8992-4983-be1d-c5b18321eb72",
   "metadata": {},
   "outputs": [
    {
     "data": {
      "text/plain": [
       "'Ajay'"
      ]
     },
     "execution_count": 104,
     "metadata": {},
     "output_type": "execute_result"
    }
   ],
   "source": [
    "stud.name"
   ]
  },
  {
   "cell_type": "code",
   "execution_count": 105,
   "id": "7151747e-8272-4d51-864c-18ed54d748e5",
   "metadata": {},
   "outputs": [
    {
     "name": "stdout",
     "output_type": "stream",
     "text": [
      "name Ajay college PWSkills\n"
     ]
    }
   ],
   "source": [
    "stud.show()"
   ]
  },
  {
   "cell_type": "code",
   "execution_count": 106,
   "id": "32e241ff-c01f-4085-b1db-0b891d3d82b1",
   "metadata": {},
   "outputs": [
    {
     "data": {
      "text/plain": [
       "'PWSkills'"
      ]
     },
     "execution_count": 106,
     "metadata": {},
     "output_type": "execute_result"
    }
   ],
   "source": [
    "coll = College()\n",
    "coll._college_name #accessing the protected variable"
   ]
  },
  {
   "cell_type": "code",
   "execution_count": null,
   "id": "6a698435-ef62-445f-9f05-5b641af57aad",
   "metadata": {},
   "outputs": [],
   "source": [
    "#anothe away to access the data of base class using super()\n",
    "class College:\n",
    "    def __init__(self):\n",
    "        self._college_name = \"PWSkills\" # Protected Variable\n",
    "class Student(College):\n",
    "    def __init__(self, name):\n",
    "        self.name = name\n",
    "        super().__init__() # Include super and remove self, base class is super class.\n",
    "        \n",
    "    def show(self):\n",
    "        print(\"name\", self.name, \"college\", self._college_name)"
   ]
  },
  {
   "cell_type": "code",
   "execution_count": 109,
   "id": "d24f2c9b",
   "metadata": {},
   "outputs": [],
   "source": [
    "student = Student(\"Shubham Sharma\")"
   ]
  },
  {
   "cell_type": "code",
   "execution_count": 110,
   "id": "8dde81a5",
   "metadata": {},
   "outputs": [
    {
     "name": "stdout",
     "output_type": "stream",
     "text": [
      "name Shubham Sharma college PWSkills\n"
     ]
    }
   ],
   "source": [
    "student.show()"
   ]
  },
  {
   "cell_type": "code",
   "execution_count": null,
   "id": "b58d79c4",
   "metadata": {},
   "outputs": [],
   "source": []
  }
 ],
 "metadata": {
  "kernelspec": {
   "display_name": "base",
   "language": "python",
   "name": "python3"
  },
  "language_info": {
   "codemirror_mode": {
    "name": "ipython",
    "version": 3
   },
   "file_extension": ".py",
   "mimetype": "text/x-python",
   "name": "python",
   "nbconvert_exporter": "python",
   "pygments_lexer": "ipython3",
   "version": "3.12.7"
  }
 },
 "nbformat": 4,
 "nbformat_minor": 5
}
